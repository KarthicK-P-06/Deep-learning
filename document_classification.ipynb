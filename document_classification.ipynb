{
  "nbformat": 4,
  "nbformat_minor": 0,
  "metadata": {
    "colab": {
      "provenance": []
    },
    "kernelspec": {
      "name": "python3",
      "display_name": "Python 3"
    },
    "language_info": {
      "name": "python"
    }
  },
  "cells": [
    {
      "cell_type": "code",
      "execution_count": 3,
      "metadata": {
        "id": "jpLdNHRhxsmq"
      },
      "outputs": [],
      "source": [
        "import numpy as np\n",
        "from keras.datasets import imdb\n",
        "from keras.models import Sequential\n",
        "from keras.layers import Embedding, LSTM, Dense\n",
        "from keras.preprocessing import sequence\n",
        "import tensorflow as tf"
      ]
    },
    {
      "cell_type": "code",
      "source": [
        "# Load the dataset\n",
        "max_features = 5000\n",
        "max_len = 500\n",
        "(x_train, y_train), (x_test, y_test) = imdb.load_data(num_words=max_features)\n",
        "\n",
        "# Pad sequences to have equal length\n",
        "x_train = tf.keras.utils.pad_sequences(x_train, maxlen=max_len)\n",
        "x_test = tf.keras.utils.pad_sequences(x_test, maxlen=max_len)\n",
        "\n",
        "# Build the model\n",
        "model = Sequential()\n",
        "model.add(Embedding(max_features, 32))\n",
        "model.add(LSTM(32))\n",
        "model.add(Dense(1, activation='sigmoid'))\n",
        "model.compile(optimizer='rmsprop', loss='binary_crossentropy', metrics=['acc'])\n",
        "\n",
        "# Train the model\n",
        "model.fit(x_train, y_train, epochs=2, batch_size=128, validation_split=0.2)\n",
        "\n",
        "# Evaluate the model on the test set\n",
        "loss, accuracy = model.evaluate(x_test, y_test, verbose=0)\n",
        "print('Test accuracy:', accuracy)"
      ],
      "metadata": {
        "colab": {
          "base_uri": "https://localhost:8080/"
        },
        "id": "mRq0xOafyWyI",
        "outputId": "84a3ad05-b13f-400c-e062-74484c20591b"
      },
      "execution_count": 5,
      "outputs": [
        {
          "output_type": "stream",
          "name": "stdout",
          "text": [
            "Epoch 1/2\n",
            "157/157 [==============================] - 39s 237ms/step - loss: 0.5923 - acc: 0.6737 - val_loss: 0.4210 - val_acc: 0.8074\n",
            "Epoch 2/2\n",
            "157/157 [==============================] - 35s 226ms/step - loss: 0.3785 - acc: 0.8435 - val_loss: 0.3343 - val_acc: 0.8614\n",
            "Test accuracy: 0.8585600256919861\n"
          ]
        }
      ]
    },
    {
      "cell_type": "code",
      "source": [
        "# Use the model to make predictions on new data\n",
        "text = ['This movie was great!']\n",
        "word_index = imdb.get_word_index()\n",
        "text = [word_index[word] if word in word_index else 0 for word in text]\n",
        "text = tf.keras.utils.pad_sequences([text], maxlen=max_len)\n",
        "prediction = model.predict(text)\n",
        "print('Prediction:', prediction[0])"
      ],
      "metadata": {
        "colab": {
          "base_uri": "https://localhost:8080/"
        },
        "id": "8YCaKY7ky9bq",
        "outputId": "0654b727-9e31-4e2a-f3ec-17c3e2f6a2df"
      },
      "execution_count": 6,
      "outputs": [
        {
          "output_type": "stream",
          "name": "stdout",
          "text": [
            "Downloading data from https://storage.googleapis.com/tensorflow/tf-keras-datasets/imdb_word_index.json\n",
            "1641221/1641221 [==============================] - 0s 0us/step\n",
            "1/1 [==============================] - 0s 418ms/step\n",
            "Prediction: [0.613133]\n"
          ]
        }
      ]
    }
  ]
}