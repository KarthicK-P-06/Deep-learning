{
  "nbformat": 4,
  "nbformat_minor": 0,
  "metadata": {
    "colab": {
      "provenance": []
    },
    "kernelspec": {
      "name": "python3",
      "display_name": "Python 3"
    },
    "language_info": {
      "name": "python"
    }
  },
  "cells": [
    {
      "cell_type": "code",
      "execution_count": 2,
      "metadata": {
        "colab": {
          "base_uri": "https://localhost:8080/"
        },
        "id": "wy18XI5A3Aa7",
        "outputId": "181a8079-e9cf-4090-a5a9-ae5c8768e7be"
      },
      "outputs": [
        {
          "output_type": "stream",
          "name": "stdout",
          "text": [
            "Downloading data from https://storage.googleapis.com/tensorflow/tf-keras-datasets/imdb.npz\n",
            "17464789/17464789 [==============================] - 0s 0us/step\n",
            "Epoch 1/10\n",
            "625/625 [==============================] - 28s 40ms/step - loss: 0.4950 - accuracy: 0.7560 - val_loss: 0.4111 - val_accuracy: 0.8230\n",
            "Epoch 2/10\n",
            "625/625 [==============================] - 22s 35ms/step - loss: 0.3343 - accuracy: 0.8627 - val_loss: 0.4304 - val_accuracy: 0.8312\n",
            "Epoch 3/10\n",
            "625/625 [==============================] - 21s 34ms/step - loss: 0.2469 - accuracy: 0.9037 - val_loss: 0.4557 - val_accuracy: 0.8296\n",
            "Epoch 4/10\n",
            "625/625 [==============================] - 20s 33ms/step - loss: 0.1577 - accuracy: 0.9425 - val_loss: 0.5006 - val_accuracy: 0.8054\n",
            "Epoch 5/10\n",
            "625/625 [==============================] - 22s 36ms/step - loss: 0.0900 - accuracy: 0.9692 - val_loss: 0.5684 - val_accuracy: 0.8068\n",
            "Epoch 6/10\n",
            "625/625 [==============================] - 21s 33ms/step - loss: 0.0508 - accuracy: 0.9834 - val_loss: 0.6598 - val_accuracy: 0.7992\n",
            "Epoch 7/10\n",
            "625/625 [==============================] - 22s 36ms/step - loss: 0.0338 - accuracy: 0.9887 - val_loss: 0.7986 - val_accuracy: 0.7872\n",
            "Epoch 8/10\n",
            "625/625 [==============================] - 22s 35ms/step - loss: 0.0254 - accuracy: 0.9921 - val_loss: 0.8415 - val_accuracy: 0.8014\n",
            "Epoch 9/10\n",
            "625/625 [==============================] - 21s 33ms/step - loss: 0.0172 - accuracy: 0.9949 - val_loss: 0.9104 - val_accuracy: 0.7854\n",
            "Epoch 10/10\n",
            "625/625 [==============================] - 22s 36ms/step - loss: 0.0156 - accuracy: 0.9952 - val_loss: 1.0511 - val_accuracy: 0.7542\n",
            "782/782 [==============================] - 6s 8ms/step - loss: 1.0726 - accuracy: 0.7411\n",
            "Test accuracy: 0.7410799860954285\n"
          ]
        }
      ],
      "source": [
        "import numpy as np\n",
        "from keras.datasets import imdb\n",
        "from keras.utils import pad_sequences\n",
        "from keras.models import Sequential\n",
        "from keras.layers import Embedding, SimpleRNN, Dense\n",
        "\n",
        "# Set hyperparameters\n",
        "max_features = 10000\n",
        "max_len = 100\n",
        "embedding_dim = 100\n",
        "hidden_units = 32\n",
        "\n",
        "# Load the IMDB dataset\n",
        "(x_train, y_train), (x_test, y_test) = imdb.load_data(num_words=max_features)\n",
        "\n",
        "# Pad sequences\n",
        "x_train = pad_sequences(x_train, maxlen=max_len)\n",
        "x_test = pad_sequences(x_test, maxlen=max_len)\n",
        "\n",
        "# Define the model architecture\n",
        "model = Sequential()\n",
        "model.add(Embedding(max_features, embedding_dim, input_length=max_len))\n",
        "model.add(SimpleRNN(hidden_units))\n",
        "model.add(Dense(1, activation='sigmoid'))\n",
        "\n",
        "# Compile the model\n",
        "model.compile(optimizer='rmsprop', loss='binary_crossentropy', metrics=['accuracy'])\n",
        "\n",
        "# Train the model\n",
        "model.fit(x_train, y_train, epochs=10, batch_size=32, validation_split=0.2)\n",
        "\n",
        "# Evaluate the model\n",
        "score, acc = model.evaluate(x_test, y_test, batch_size=32)\n",
        "print('Test accuracy:', acc)"
      ]
    },
    {
      "cell_type": "code",
      "source": [
        "# Example prediction for 2 positive reviews\n",
        "positive_reviews = ['The acting was amazing and the storyline was very compelling.',\n",
        "                    'This movie is one of the badest I have seen in a long time.']\n",
        "positive_sequences = [np.array([imdb.get_word_index()[word] if imdb.get_word_index().get(word) is not None and imdb.get_word_index()[word] < max_features else 0 for word in review.split()]) for review in positive_reviews]\n",
        "positive_sequences = pad_sequences(positive_sequences, maxlen=max_len)\n",
        "print(model.predict(positive_sequences))"
      ],
      "metadata": {
        "colab": {
          "base_uri": "https://localhost:8080/"
        },
        "id": "2DTnwDW93TuI",
        "outputId": "c1319cb0-ad66-47ff-bbe1-9586f123d40a"
      },
      "execution_count": 13,
      "outputs": [
        {
          "output_type": "stream",
          "name": "stdout",
          "text": [
            "1/1 [==============================] - 0s 27ms/step\n",
            "[[0.99985325]\n",
            " [0.09049376]]\n"
          ]
        }
      ]
    }
  ]
}