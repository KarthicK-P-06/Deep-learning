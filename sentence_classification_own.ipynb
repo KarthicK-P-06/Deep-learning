{
  "nbformat": 4,
  "nbformat_minor": 0,
  "metadata": {
    "colab": {
      "provenance": []
    },
    "kernelspec": {
      "name": "python3",
      "display_name": "Python 3"
    },
    "language_info": {
      "name": "python"
    }
  },
  "cells": [
    {
      "cell_type": "code",
      "source": [
        "import numpy as np\n",
        "from keras.datasets import imdb\n",
        "from keras.utils import pad_sequences\n",
        "from keras.models import Sequential\n",
        "from keras.layers import Embedding, Conv1D, GlobalMaxPooling1D, Dense, Dropout\n",
        "\n",
        "# Load the IMDb dataset\n",
        "vocab_size = 10000\n",
        "(X_train, y_train), (X_test, y_test) = imdb.load_data(num_words=vocab_size)\n",
        "\n",
        "# Maximum number of words per document\n",
        "maxlen = 200\n",
        "\n",
        "# Pad the sequences to the same length\n",
        "X_train = pad_sequences(X_train, maxlen=maxlen)\n",
        "X_test = pad_sequences(X_test, maxlen=maxlen)\n",
        "\n",
        "# Define the model\n",
        "embedding_dim = 50\n",
        "model = Sequential()\n",
        "model.add(Embedding(vocab_size, embedding_dim, input_length=maxlen))\n",
        "model.add(Conv1D(filters=64, kernel_size=3, padding='same', activation='relu'))\n",
        "model.add(GlobalMaxPooling1D())\n",
        "model.add(Dense(250, activation='relu'))\n",
        "model.add(Dropout(0.2))\n",
        "model.add(Dense(1, activation='sigmoid'))\n",
        "\n",
        "# Compile the model\n",
        "model.compile(optimizer='adam', loss='binary_crossentropy', metrics=['accuracy'])\n",
        "\n",
        "# Fit the model\n",
        "model.fit(X_train, y_train, epochs=5, batch_size=32, validation_split=0.2)\n",
        "\n",
        "loss, accuracy =  model.evaluate(X_test, y_test)\n",
        "print(accuracy)"
      ],
      "metadata": {
        "colab": {
          "base_uri": "https://localhost:8080/"
        },
        "id": "gOs83GmQ0Tq7",
        "outputId": "d519f458-7862-4e1f-be74-e73e59192aed"
      },
      "execution_count": 16,
      "outputs": [
        {
          "output_type": "stream",
          "name": "stdout",
          "text": [
            "Epoch 1/5\n",
            "625/625 [==============================] - 19s 29ms/step - loss: 0.4312 - accuracy: 0.7876 - val_loss: 0.3270 - val_accuracy: 0.8572\n",
            "Epoch 2/5\n",
            "625/625 [==============================] - 19s 30ms/step - loss: 0.2082 - accuracy: 0.9187 - val_loss: 0.3041 - val_accuracy: 0.8764\n",
            "Epoch 3/5\n",
            "625/625 [==============================] - 18s 28ms/step - loss: 0.0794 - accuracy: 0.9730 - val_loss: 0.3510 - val_accuracy: 0.8764\n",
            "Epoch 4/5\n",
            "625/625 [==============================] - 17s 28ms/step - loss: 0.0205 - accuracy: 0.9952 - val_loss: 0.4345 - val_accuracy: 0.8778\n",
            "Epoch 5/5\n",
            "625/625 [==============================] - 19s 31ms/step - loss: 0.0039 - accuracy: 0.9998 - val_loss: 0.4923 - val_accuracy: 0.8744\n",
            "782/782 [==============================] - 5s 7ms/step - loss: 0.4921 - accuracy: 0.8735\n",
            "0.873520016670227\n"
          ]
        }
      ]
    },
    {
      "cell_type": "code",
      "source": [
        "# Predict on two positive reviews\n",
        "review1 = \"I absolutely loved this movie! The acting was superb and the plot was very engaging.\"\n",
        "review2 = \"This movie was terrible. The plot was boring and the acting was wooden.\"\n",
        "\n",
        "# Convert the reviews to sequences of integers\n",
        "word_index = imdb.get_word_index()\n",
        "words = review1.split()\n",
        "seq = []\n",
        "for word in words:\n",
        "    if word in word_index and word_index[word] < vocab_size:\n",
        "        seq.append(word_index[word] + 3)\n",
        "X_pred1 = pad_sequences([seq], maxlen=maxlen)\n",
        "\n",
        "words = review2.split()\n",
        "seq = []\n",
        "for word in words:\n",
        "    if word in word_index and word_index[word] < vocab_size:\n",
        "        seq.append(word_index[word] + 3)\n",
        "X_pred2 = pad_sequences([seq], maxlen=maxlen)\n",
        "\n",
        "# Predict the sentiment of the two reviews\n",
        "y_pred1 = model.predict(X_pred1)\n",
        "y_pred2 = model.predict(X_pred2)\n",
        "\n",
        "# Print the predicted sentiment\n",
        "print(\"Review 1 predicted sentiment:\", \"Positive\" if y_pred1 > 0.5 else \"Negative\")\n",
        "print(\"Review 2 predicted sentiment:\", \"Positive\" if y_pred2 > 0.5 else \"Negative\")"
      ],
      "metadata": {
        "colab": {
          "base_uri": "https://localhost:8080/"
        },
        "id": "Hk1bal5e2S7q",
        "outputId": "09f51daf-bbfc-45c3-a868-cef69465a6bc"
      },
      "execution_count": 17,
      "outputs": [
        {
          "output_type": "stream",
          "name": "stdout",
          "text": [
            "1/1 [==============================] - 0s 79ms/step\n",
            "1/1 [==============================] - 0s 23ms/step\n",
            "Review 1 predicted sentiment: Positive\n",
            "Review 2 predicted sentiment: Negative\n"
          ]
        }
      ]
    }
  ]
}