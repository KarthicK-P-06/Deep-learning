{
  "nbformat": 4,
  "nbformat_minor": 0,
  "metadata": {
    "colab": {
      "provenance": []
    },
    "kernelspec": {
      "name": "python3",
      "display_name": "Python 3"
    },
    "language_info": {
      "name": "python"
    }
  },
  "cells": [
    {
      "cell_type": "markdown",
      "source": [
        "import numpy as np\n",
        "import pandas as pd\n",
        "import tensorflow as tf\n",
        "from keras.preprocessing.text import Tokenizer\n",
        "from keras.models import Sequential\n",
        "from keras.layers import Dense, Embedding, Conv1D, GlobalMaxPooling1D"
      ],
      "metadata": {
        "id": "ElhjVma7kTYR"
      }
    },
    {
      "cell_type": "code",
      "source": [
        "import numpy as np\n",
        "from keras.datasets import imdb\n",
        "from keras.models import Sequential\n",
        "from keras.layers import Dense, Dropout, Embedding, Conv1D, GlobalMaxPooling1D\n",
        "import tensorflow as tf\n",
        "\n",
        "# Load the dataset\n",
        "max_features = 5000\n",
        "max_len = 400\n",
        "(x_train, y_train), (x_test, y_test) = imdb.load_data(num_words=max_features)\n",
        "\n",
        "# Pad sequences to have equal length\n",
        "x_train = tf.keras.utils.pad_sequences(x_train, maxlen=max_len)\n",
        "x_test = tf.keras.utils.pad_sequences(x_test, maxlen=max_len)\n",
        "\n",
        "# Build the model\n",
        "model = Sequential()\n",
        "model.add(Embedding(max_features, 128, input_length=max_len))\n",
        "model.add(Conv1D(32, 5, activation='relu'))\n",
        "model.add(GlobalMaxPooling1D())\n",
        "model.add(Dense(1, activation='sigmoid'))\n",
        "\n",
        "# Compile the model\n",
        "model.compile(optimizer='rmsprop', loss='binary_crossentropy', metrics=['accuracy'])\n",
        "\n",
        "# Train the model\n",
        "model.fit(x_train, y_train, epochs=2, batch_size=128, validation_split=0.2)\n",
        "\n",
        "# Evaluate the model on the test set\n",
        "loss, accuracy = model.evaluate(x_test, y_test, verbose=0)\n",
        "print('Test accuracy:', accuracy)"
      ],
      "metadata": {
        "colab": {
          "base_uri": "https://localhost:8080/"
        },
        "id": "50n8PKybt9DM",
        "outputId": "03b5acb3-baf0-4baa-faa3-d7d3a08de602"
      },
      "execution_count": null,
      "outputs": [
        {
          "output_type": "stream",
          "name": "stdout",
          "text": [
            "Epoch 1/2\n",
            "157/157 [==============================] - 53s 336ms/step - loss: 0.5950 - accuracy: 0.6933 - val_loss: 0.4887 - val_accuracy: 0.7664\n",
            "Epoch 2/2\n",
            "157/157 [==============================] - 51s 323ms/step - loss: 0.4271 - accuracy: 0.8038 - val_loss: 0.3903 - val_accuracy: 0.8288\n",
            "Test accuracy: 0.8280799984931946\n"
          ]
        }
      ]
    },
    {
      "cell_type": "code",
      "source": [
        "text = ['This movie was great!']\n",
        "word_index = imdb.get_word_index()\n",
        "text = [word_index[word] if word in word_index else 0 for word in text]\n",
        "text = tf.keras.utils.pad_sequences([text], maxlen=max_len)\n",
        "prediction = model.predict(text)\n",
        "print('Prediction:', prediction[0])"
      ],
      "metadata": {
        "colab": {
          "base_uri": "https://localhost:8080/"
        },
        "id": "V2hpHEylw8H3",
        "outputId": "fae2be0a-d3f8-4f0f-a0e0-7b802887bb76"
      },
      "execution_count": null,
      "outputs": [
        {
          "output_type": "stream",
          "name": "stdout",
          "text": [
            "1/1 [==============================] - 0s 77ms/step\n",
            "Prediction: [0.5604922]\n"
          ]
        }
      ]
    }
  ]
}